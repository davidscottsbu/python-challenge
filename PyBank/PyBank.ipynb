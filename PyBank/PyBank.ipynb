{
 "cells": [
  {
   "cell_type": "code",
   "execution_count": 12,
   "id": "2cf9a570-7d01-4c0a-ba34-db5d339cecfc",
   "metadata": {},
   "outputs": [],
   "source": [
    "import os\n",
    "import csv\n",
    "import pandas as pd"
   ]
  },
  {
   "cell_type": "code",
   "execution_count": 13,
   "id": "944c9ed2-fddc-455c-b2ae-e89197592813",
   "metadata": {},
   "outputs": [],
   "source": [
    "# Specify the absolute file path\n",
    "file_path = 'budget_data.csv'\n",
    "\n",
    "total_months = 0\n",
    "\n",
    "# Open the CSV file\n",
    "with open(file_path, mode='r') as file:\n",
    "    # Create a CSV reader object\n",
    "    csv_reader = csv.reader(file)\n",
    "    header = next(csv_reader)\n",
    "    # Read and print each row\n",
    "    for row in csv_reader:\n",
    "        total_months = total_months + 1\n"
   ]
  },
  {
   "cell_type": "code",
   "execution_count": 14,
   "id": "90085549-d67f-4408-aadb-da0df252b9b5",
   "metadata": {},
   "outputs": [
    {
     "name": "stdout",
     "output_type": "stream",
     "text": [
      "The total months are: 86\n"
     ]
    }
   ],
   "source": [
    "print(f'The total months are: {total_months}')"
   ]
  },
  {
   "cell_type": "code",
   "execution_count": 15,
   "id": "923b4c64-054a-45ab-b57d-e1142238783b",
   "metadata": {},
   "outputs": [
    {
     "name": "stdout",
     "output_type": "stream",
     "text": [
      "The total sum is: 22564198\n"
     ]
    }
   ],
   "source": [
    "with open(file_path, mode='r')as dataset:\n",
    "    total_sum = 0\n",
    "    iteration = 0\n",
    "    for i in csv.reader(dataset):\n",
    "        # print(i[1])\n",
    "        # x = 0\n",
    "        # print(x)\n",
    "        # x = x+1\n",
    "        # print(x)\n",
    "        if iteration == 0:\n",
    "            iteration = iteration + 1\n",
    "            continue\n",
    "        total_sum = total_sum + int(i[1])\n",
    "    print(f'The total sum is: {total_sum}')\n",
    "    "
   ]
  },
  {
   "cell_type": "code",
   "execution_count": 16,
   "id": "28d3a241-4fe9-40c7-b3a4-052cc2fb17b6",
   "metadata": {},
   "outputs": [
    {
     "name": "stdout",
     "output_type": "stream",
     "text": [
      "     Date  Profit/Losses     Change\n",
      "0  Jan-10        1088983        NaN\n",
      "1  Feb-10        -354534 -1443517.0\n",
      "2  Mar-10         276622   631156.0\n",
      "3  Apr-10        -728133 -1004755.0\n",
      "4  May-10         852993  1581126.0\n",
      "The average change in Profit/Losses is: -8311.105882352942\n"
     ]
    }
   ],
   "source": [
    "# calculate average change\n",
    "file_path = 'budget_data.csv'\n",
    "df = pd.read_csv(file_path)\n",
    "\n",
    "df['Profit/Losses'] = pd.to_numeric(df['Profit/Losses'])\n",
    "\n",
    "df['Change'] = df['Profit/Losses'].diff()\n",
    "\n",
    "average_change = df['Change'].mean()\n",
    "\n",
    "print(df.head())\n",
    "print(f'The average change in Profit/Losses is: {average_change}')\n",
    "    "
   ]
  },
  {
   "cell_type": "code",
   "execution_count": 17,
   "id": "f3575d00-9da6-4b2f-8f20-27eb85c2060a",
   "metadata": {},
   "outputs": [
    {
     "name": "stdout",
     "output_type": "stream",
     "text": [
      "     Date  Profit/Losses Increase\n",
      "0  Jan-10        1088983   Sep-16\n",
      "1  Feb-10        -354534   Sep-16\n",
      "2  Mar-10         276622   Sep-16\n",
      "3  Apr-10        -728133   Sep-16\n",
      "4  May-10         852993   Sep-16\n",
      "The date with the greatest increase in profits was: Sep-16\n"
     ]
    }
   ],
   "source": [
    "# calculate the greatest increase in profits\n",
    "file_path = 'budget_data.csv'\n",
    "df = pd.read_csv(file_path)\n",
    "\n",
    "df['Profit/Losses'] = pd.to_numeric(df['Profit/Losses'])\n",
    "\n",
    "df['Increase']=df['Date'].max()\n",
    "\n",
    "greatest_increase = df['Increase'].max()\n",
    "\n",
    "print(df.head())\n",
    "print(f'The date with the greatest increase in profits was: {greatest_increase}')"
   ]
  },
  {
   "cell_type": "code",
   "execution_count": 18,
   "id": "58d12cf8-0be7-46a7-8181-4ebe3d00a734",
   "metadata": {},
   "outputs": [
    {
     "name": "stdout",
     "output_type": "stream",
     "text": [
      "The date with the greatest increase in profits was: Aug-16 ($1862002.0)\n"
     ]
    }
   ],
   "source": [
    "# calculate the greatest increase in profits\n",
    "file_path = 'budget_data.csv'\n",
    "df = pd.read_csv(file_path)\n",
    "\n",
    "df['Profit/Losses'] = pd.to_numeric(df['Profit/Losses'])\n",
    "\n",
    "# Calculate the difference between each row and the previous row\n",
    "df['Profit Change'] = df['Profit/Losses'].diff()\n",
    "\n",
    "# Find the row with the maximum profit increase\n",
    "greatest_increase_row = df.loc[df['Profit Change'].idxmax()]\n",
    "\n",
    "print(f\"The date with the greatest increase in profits was: {greatest_increase_row['Date']} (${greatest_increase_row['Profit Change']})\")\n"
   ]
  },
  {
   "cell_type": "code",
   "execution_count": 19,
   "id": "8ce10f8d-0d4f-4fbe-bd9a-68ddfbdebc19",
   "metadata": {},
   "outputs": [
    {
     "name": "stdout",
     "output_type": "stream",
     "text": [
      "The date with the greatest decrease in profits was: Feb-14 and the amount was $-1825558.0\n"
     ]
    }
   ],
   "source": [
    "# calculate the greatest decrease in profits\n",
    "file_path = 'budget_data.csv'\n",
    "df = pd.read_csv(file_path)\n",
    "\n",
    "df['Profit/Losses'] = pd.to_numeric(df['Profit/Losses'])\n",
    "\n",
    "# Calculate the monthly change in profits\n",
    "df['Monthly Change'] = df['Profit/Losses'].diff()\n",
    "\n",
    "# Find the row with the greatest decrease in profits\n",
    "greatest_decrease_row = df.loc[df['Monthly Change'].idxmin()]\n",
    "greatest_decrease_date = greatest_decrease_row['Date']\n",
    "greatest_decrease_amount = greatest_decrease_row['Monthly Change']\n",
    "\n",
    "print(f\"The date with the greatest decrease in profits was: {greatest_decrease_date} and the amount was ${greatest_decrease_amount}\")"
   ]
  },
  {
   "cell_type": "code",
   "execution_count": 21,
   "id": "da8fdaf0-9c26-4864-a884-328d23fee73c",
   "metadata": {},
   "outputs": [
    {
     "data": {
      "text/plain": [
       "'C:\\\\Users\\\\david\\\\python-challenge\\\\PyBank'"
      ]
     },
     "execution_count": 21,
     "metadata": {},
     "output_type": "execute_result"
    }
   ],
   "source": [
    "pwd"
   ]
  },
  {
   "cell_type": "code",
   "execution_count": null,
   "id": "398a60c4-823b-445e-b428-cbdd05a26b61",
   "metadata": {},
   "outputs": [],
   "source": []
  }
 ],
 "metadata": {
  "kernelspec": {
   "display_name": "Python 3 (ipykernel)",
   "language": "python",
   "name": "python3"
  },
  "language_info": {
   "codemirror_mode": {
    "name": "ipython",
    "version": 3
   },
   "file_extension": ".py",
   "mimetype": "text/x-python",
   "name": "python",
   "nbconvert_exporter": "python",
   "pygments_lexer": "ipython3",
   "version": "3.11.7"
  }
 },
 "nbformat": 4,
 "nbformat_minor": 5
}
