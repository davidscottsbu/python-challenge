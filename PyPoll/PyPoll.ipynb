{
 "cells": [
  {
   "cell_type": "code",
   "execution_count": 173,
   "id": "8c9b1085-d7a3-4cbe-8eb5-897ec90ed605",
   "metadata": {},
   "outputs": [],
   "source": [
    "import os\n",
    "import csv\n",
    "import pandas as pd"
   ]
  },
  {
   "cell_type": "code",
   "execution_count": 174,
   "id": "58239abd-ea07-4475-ba67-20883cf5820b",
   "metadata": {},
   "outputs": [],
   "source": [
    "candidate_votes = ()"
   ]
  },
  {
   "cell_type": "code",
   "execution_count": 175,
   "id": "bc0b3dd9-93d6-4543-931a-95585bf51687",
   "metadata": {},
   "outputs": [],
   "source": [
    "Ballot = []"
   ]
  },
  {
   "cell_type": "code",
   "execution_count": 176,
   "id": "d8f3887a-3114-4391-bf46-a64254b24df9",
   "metadata": {},
   "outputs": [],
   "source": [
    "Charles_Casper_Stockham = 0\n",
    "Kaymon_Anthony_Doane = 0\n",
    "Diana_DeGette = 0"
   ]
  },
  {
   "cell_type": "code",
   "execution_count": 177,
   "id": "ced4f81f-a89e-4b4a-87cb-ad04d4099bfd",
   "metadata": {
    "scrolled": true
   },
   "outputs": [],
   "source": [
    "csvpath = os.path.join(r'C:\\Users\\david\\python-challenge\\PyPoll', 'election_data.csv')"
   ]
  },
  {
   "cell_type": "code",
   "execution_count": 178,
   "id": "2d16123c-525b-48fa-9f3b-e45ce4b514df",
   "metadata": {},
   "outputs": [
    {
     "name": "stdout",
     "output_type": "stream",
     "text": [
      "Total Votes: 369711\n"
     ]
    }
   ],
   "source": [
    "# Loop through each row in the CSV file\n",
    "# Read the CSV file using pandas\n",
    "df = pd.read_csv('election_data.csv')\n",
    "\n",
    "# Initialize variables to count votes for each candidate\n",
    "Charles_Casper_Stockham = 0\n",
    "Diana_DeGette = 0\n",
    "Raymon_Anthony_Doane = 0\n",
    "\n",
    "# Loop through each row in the DataFrame\n",
    "for index, row in df.iterrows():\n",
    "    if row['Candidate'] == \"Charles Casper Stockham\":\n",
    "        Charles_Casper_Stockham += 1\n",
    "    elif row['Candidate'] == \"Diana DeGette\":\n",
    "        Diana_DeGette += 1\n",
    "    elif row['Candidate'] == \"Raymon Anthony Doane\":\n",
    "        Raymon_Anthony_Doane += 1\n",
    "\n",
    "# Calculate the total number of votes\n",
    "total_votes = len(df)\n",
    "\n",
    "# Print the total number of votes\n",
    "print(f\"Total Votes: {total_votes}\")"
   ]
  },
  {
   "cell_type": "code",
   "execution_count": 179,
   "id": "4b522890-f4c3-4d08-b897-6dd14dfd3aa4",
   "metadata": {},
   "outputs": [
    {
     "name": "stdout",
     "output_type": "stream",
     "text": [
      "Charles Casper Stockham: 23.05% (85213)\n",
      "Diana DeGette: 73.81% (272892)\n",
      "Raymon Anthony Doane: 3.14% (11606)\n"
     ]
    }
   ],
   "source": [
    "total_votes = 369711  # Example total votes\n",
    "\n",
    "# Calculating the percentages for each candidate based on the total votes\n",
    "# Calculate the percentage of total votes for each candidate\n",
    "Candidate1 = (Charles_Casper_Stockham / total_votes) * 100\n",
    "Candidate2 = (Diana_DeGette / total_votes) * 100\n",
    "Candidate3 = (Raymon_Anthony_Doane / total_votes) * 100\n",
    "\n",
    "# Add the percentage symbol to the percentages and concatenate total votes\n",
    "Candidate1_percentage = f\"Charles Casper Stockham: {Candidate1:.2f}% ({Charles_Casper_Stockham})\"\n",
    "Candidate2_percentage = f\"Diana DeGette: {Candidate2:.2f}% ({Diana_DeGette})\"\n",
    "Candidate3_percentage = f\"Raymon Anthony Doane: {Candidate3:.2f}% ({Raymon_Anthony_Doane})\"\n",
    "\n",
    "# Print out the percentages with the total votes\n",
    "print(Candidate1_percentage)\n",
    "print(Candidate2_percentage)\n",
    "print(Candidate3_percentage)"
   ]
  },
  {
   "cell_type": "code",
   "execution_count": 180,
   "id": "01f25f4f-25cc-4237-88d5-27a82c8d2c75",
   "metadata": {},
   "outputs": [],
   "source": [
    "#Run code for candidate with most votes\n",
    "Canidate_votes = {\"Charles Casper Stockham\": Charles_Casper_Stockham, \"Diana DeGette\": Diana_DeGette, \"Raymon Anthony Doane\": Raymon_Anthony_Doane }  \n",
    "\n",
    "Election_winner = max(Canidate_votes, key=Canidate_votes.get)"
   ]
  },
  {
   "cell_type": "code",
   "execution_count": 181,
   "id": "f13554c9-8b44-4942-b683-eb3c4bde7859",
   "metadata": {},
   "outputs": [],
   "source": [
    "output_path = \"election_result.txt\""
   ]
  },
  {
   "cell_type": "code",
   "execution_count": 182,
   "id": "72f23c17-e0c3-465b-8a1e-8dbcf32e3948",
   "metadata": {},
   "outputs": [],
   "source": [
    "file =  open(output_path, 'w') "
   ]
  },
  {
   "cell_type": "code",
   "execution_count": 183,
   "id": "01f1cf58-57a9-4b81-9aa5-90f09ed90c3f",
   "metadata": {},
   "outputs": [
    {
     "name": "stdout",
     "output_type": "stream",
     "text": [
      "Winner: Diana DeGette\n"
     ]
    }
   ],
   "source": [
    "#Candidates\n",
    "candidates = {\n",
    "    \"Charles Casper Stockham\": Charles_Casper_Stockham,\n",
    "    \"Diana DeGette\": Diana_DeGette,\n",
    "    \"Raymon Anthony Doane\": Raymon_Anthony_Doane\n",
    "}\n",
    "\n",
    "# Determine the winner based on the candidate with the highest number of votes\n",
    "winner_name = max(candidates, key=candidates.get)\n",
    "winner_votes = candidates[winner_name]\n",
    "\n",
    "with open(\"election_results.txt\", \"w\") as file:\n",
    "    file.write(\"Election Results\\n\")\n",
    "    file.write(\"----------------------------\\n\")\n",
    "    file.write(f\"Total Votes: {total_votes}\\n\")\n",
    "    file.write(f\"Charles Casper Stockham: {Candidate1:.2f}% ({Charles_Casper_Stockham} votes)\\n\")\n",
    "    file.write(f\"Diana DeGette: {Candidate2:.2f}% ({Diana_DeGette} votes)\\n\")\n",
    "    file.write(f\"Raymon Anthony Doane: {Candidate3:.2f}% ({Raymon_Anthony_Doane} votes)\\n\")\n",
    "    file.write(\"----------------------------\\n\")\n",
    "    file.write(f\"Winner: {winner_name} with {winner_votes} votes\\n\")\n",
    "\n",
    "# Print out the winner\n",
    "print(\"Winner: \" + str(winner_name))"
   ]
  }
 ],
 "metadata": {
  "kernelspec": {
   "display_name": "Python 3 (ipykernel)",
   "language": "python",
   "name": "python3"
  },
  "language_info": {
   "codemirror_mode": {
    "name": "ipython",
    "version": 3
   },
   "file_extension": ".py",
   "mimetype": "text/x-python",
   "name": "python",
   "nbconvert_exporter": "python",
   "pygments_lexer": "ipython3",
   "version": "3.11.7"
  }
 },
 "nbformat": 4,
 "nbformat_minor": 5
}
